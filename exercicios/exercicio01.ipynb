{
 "cells": [
  {
   "cell_type": "markdown",
   "metadata": {
    "collapsed": true,
    "pycharm": {
     "name": "#%% md\n"
    }
   },
   "source": [
    "## Exercícios - Aula 01"
   ]
  },
  {
   "cell_type": "markdown",
   "metadata": {
    "collapsed": false,
    "pycharm": {
     "name": "#%% md\n"
    }
   },
   "source": [
    "1) Escolha um número entre 1 e 10 e armazene ele numa variável chamada *segredo*. Escolha outro número entre 1 e 10 novamente e salve ele numa variável chamada *chute*. Depois, escreva testes condicionais usando *if*, *else* e *elif* para exibir a mensagem \"muito menor\" se *chute* é menor do que *segredo*, \"muito maior\" se *chute* é maior do que *segredo* e \"na mosca\" se *chute* for igual à *segredo*.\n",
    "\n",
    "2) Escreva uma cadeia de instrucões *if*-*elif*-*else* que determine o estágio da vida de uma pessoa. Defina um valor para a variável *idade* e então:\n",
    "- Se a pessoa tiver menos de 2 anos de idade, mostre uma mensagem dizendo que ela ainda é um bebê.\n",
    "- Se a pessoa tiver pelo menos 2 anos, mas menos de 4, mostre uma mensagem dizendo que ela é uma crianca.\n",
    "- Se a pessoa tiver pelo menos 4 anos, mas menos de 13, mostre uma mensagem dizendo que ela é um(a) goroto(a).\n",
    "- Se a pessoa tiver pelo menos 13 anos, mas menos de 20, mostre uma mensagem dizendo que ela é um(a) adolescente.\n",
    "- Se a pessoa tiver pelo menos 20 anos, mas menos de 65, mostre uma mensagem dizendo que ela é um(a) adulto(a).\n",
    "- Se a pessoa tiver 65 anos ou mais, mostre uma mensagem dizendo que ela é uma pessoa idosa.\n",
    "\n",
    "3) Crie uma lista com cinco ou mais nomes de usuários, incluindo o nome \"admin\". Suponha que você esteja escrevendo um código que exibirá uma saudacão a cada usuário depois que eles fizerem login em um site. Percorra a lista com um laco e mostre uma saudacão para cada usuário:\n",
    "- Se o nome do usuário for \"admin\", mostre uma saudacão especial, por exemplo, \"Olá admin, gostaria de ver o relatório de status?\"\n",
    "- Caso contrário, mostre a saudacão genérica, como \"Olá José, obrigado por fazer login novamente\".\n",
    "\n",
    "4) A partir do exercício anterior, modifique o código criado para acrescentar um teste if que verifica se a lista de usuarios está vazia.\n",
    "- Se a lista de usuários estiver vazia, mostre a mensagem \"Precisamos encontrar alguns usuários!\". Remova todos os nomes de usuários da lista e certifique-se de que essa mensagem aparecerá.\n",
    "\n",
    "5) Crie um programa que simule o modo como os sites garantem que todos tenham um nome de usuário único.\n",
    "- Crie uma lista chamada *current_users* com cinco ou mais nomes de usuários\n",
    "- Crie uma list chamada *new_users* com cinco nomes de usuários. Garanta que dois dos novos usuários também estejam na lista *current_users*\n",
    "- Percorra a lista *new_users* com um laco para ver se cada novo nome de usuário já foi usado. Em caso afirmativo, mostre uma mensagem afirmando que a pessoa deverá fornecer um novo nome. Se um usuário não foi usado, apresente uma mensagem dizendo que o nome do usuário está disponível.\n",
    "- Certifique-se de que sua comparacão não levará em conta as diferencas entre letras maiúsculas e minúsculas. Se \"Pedro\" foi usado, \"PEDRO\" não deverá ser aceito.\n",
    "\n",
    "6) Números ordinais indicam sua posicão em uma lista, por exemplo, 1st, 2nd, em inglês. A maioria dos números ordinais nessa língua termina com th, exceto, 1, 2 e 3.\n",
    "- Armazene os números de 1 a 9 em uma lista.\n",
    "- Pecorra essa lista com um laco.\n",
    "- Use uma cadeia de instrucões *if*-*elif*-*else* que exiba a terminacão apropriada para cada número ordinal. Sua saída deverá conter \"1st 2nd 3rd 4th 5th 6th 7th 8th 9th\" e cada resultado deve estar em uma linha separada\n"
   ]
  },
  {
   "cell_type": "code",
   "execution_count": 2,
   "metadata": {},
   "outputs": [
    {
     "ename": "IndentationError",
     "evalue": "unexpected indent (865676695.py, line 4)",
     "output_type": "error",
     "traceback": [
      "\u001b[0;36m  Cell \u001b[0;32mIn[2], line 4\u001b[0;36m\u001b[0m\n\u001b[0;31m    if chute == 0:\u001b[0m\n\u001b[0m    ^\u001b[0m\n\u001b[0;31mIndentationError\u001b[0m\u001b[0;31m:\u001b[0m unexpected indent\n"
     ]
    }
   ],
   "source": [
    "# Solucao do exercicio (1)\n",
    "segredo == 5\n",
    "chute == 1\n",
    " if chute == 0:\n",
    "    print(\"na mosca!\")\n",
    "if chute >= 5:\n",
    "    print(\"muito menor\")\n",
    "else\n",
    "    print(\"muito maior\")"
   ]
  },
  {
   "cell_type": "code",
   "execution_count": 3,
   "metadata": {},
   "outputs": [
    {
     "ename": "SyntaxError",
     "evalue": "unterminated string literal (detected at line 6) (661515302.py, line 6)",
     "output_type": "error",
     "traceback": [
      "\u001b[0;36m  Cell \u001b[0;32mIn[3], line 6\u001b[0;36m\u001b[0m\n\u001b[0;31m    print(\"crianca)\u001b[0m\n\u001b[0m          ^\u001b[0m\n\u001b[0;31mSyntaxError\u001b[0m\u001b[0;31m:\u001b[0m unterminated string literal (detected at line 6)\n"
     ]
    }
   ],
   "source": [
    "# Solucao do exercicio (2)\n",
    "idade = 42\n",
    "if idade < 2:\n",
    "    print(\"bebe\")\n",
    "if idade >= 2 & <= 4:\n",
    "    print(\"crianca)\n",
    "if idade >= 4 & <= 13:\n",
    "    print(\"garoto\" | \"garota\")\n",
    "if idade >= 13 & <= 20:\n",
    "    print(\"adolescete\")\n",
    "if idade >= 20 & <= 65:\n",
    "    print (\"adulto\")\n",
    "else:\n",
    "    print(\"idosa\")"
   ]
  },
  {
   "cell_type": "code",
   "execution_count": 4,
   "metadata": {},
   "outputs": [
    {
     "ename": "SyntaxError",
     "evalue": "invalid syntax (3229336554.py, line 1)",
     "output_type": "error",
     "traceback": [
      "\u001b[0;36m  Cell \u001b[0;32mIn[4], line 1\u001b[0;36m\u001b[0m\n\u001b[0;31m    Solucao do exercicio (3)\u001b[0m\n\u001b[0m            ^\u001b[0m\n\u001b[0;31mSyntaxError\u001b[0m\u001b[0;31m:\u001b[0m invalid syntax\n"
     ]
    }
   ],
   "source": [
    "Solucao do exercicio (3)\n",
    "lista_suarios = [\"admin\", \"andreia\", \"clara\", \"luna\", \"peppa\"] # Crates an empty list that will later store usuarios\n",
    "for n in scores: \n",
    "    n = int(n)\n",
    "    lista.usuarios(n) \n",
    "    "
   ]
  },
  {
   "cell_type": "code",
   "execution_count": 5,
   "metadata": {},
   "outputs": [
    {
     "ename": "SyntaxError",
     "evalue": "invalid syntax (781096599.py, line 1)",
     "output_type": "error",
     "traceback": [
      "\u001b[0;36m  Cell \u001b[0;32mIn[5], line 1\u001b[0;36m\u001b[0m\n\u001b[0;31m    Solucao do exercicio (4)\u001b[0m\n\u001b[0m            ^\u001b[0m\n\u001b[0;31mSyntaxError\u001b[0m\u001b[0;31m:\u001b[0m invalid syntax\n"
     ]
    }
   ],
   "source": [
    "Solucao do exercicio (4)\n",
    "\n",
    "lista_suarios = [\"admin\", \"andreia\", \"clara\", \"luna\", \"peppa\"] # Crates an empty list that will later store usuarios\n",
    "if lista_suarios=[]:\n",
    "    print(\"Precisamos encontrar usuarios!\")"
   ]
  },
  {
   "cell_type": "code",
   "execution_count": null,
   "metadata": {},
   "outputs": [],
   "source": [
    "Resolucao do exercicio (5)\n",
    "current_users = (\"andre\", \"adriano\", \"paulo\", \"jose\", \"mario\")\n",
    "new_users = (\"maria\", \"ana\", \"clara\", \"jessica\", \"cristina\")\n",
    "\n",
    "if new_users = current_users:\n",
    "    print(\"fornecer novo nome\")\n",
    "else:\n",
    "    print(\"disponivel\")"
   ]
  },
  {
   "cell_type": "code",
   "execution_count": null,
   "metadata": {},
   "outputs": [],
   "source": [
    "Resolucao do exercicio (6)\n",
    "numbers = (1, 2, 3, 4, 5, 6, 7, 8, 9)\n",
    "if n in numbers:\n",
    "    print(\"first\", \"second\", \"third\", \"fourth\", \"fifth\", \"sixth\", \"seventh\", \"eight\", \"ninth\")"
   ]
  }
 ],
 "metadata": {
  "kernelspec": {
   "display_name": "Python 3",
   "language": "python",
   "name": "python3"
  },
  "language_info": {
   "codemirror_mode": {
    "name": "ipython",
    "version": 3
   },
   "file_extension": ".py",
   "mimetype": "text/x-python",
   "name": "python",
   "nbconvert_exporter": "python",
   "pygments_lexer": "ipython3",
   "version": "3.10.4"
  },
  "vscode": {
   "interpreter": {
    "hash": "3ad933181bd8a04b432d3370b9dc3b0662ad032c4dfaa4e4f1596c548f763858"
   }
  }
 },
 "nbformat": 4,
 "nbformat_minor": 0
}
